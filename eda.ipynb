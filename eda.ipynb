{
 "cells": [
  {
   "cell_type": "code",
   "execution_count": 1,
   "metadata": {},
   "outputs": [],
   "source": [
    "import pandas as pd\n",
    "import numpy as np\n",
    "from scipy import stats\n",
    "import seaborn as sns"
   ]
  },
  {
   "cell_type": "markdown",
   "metadata": {},
   "source": [
    "Analisis Archivos Homicidios"
   ]
  },
  {
   "cell_type": "code",
   "execution_count": 2,
   "metadata": {},
   "outputs": [],
   "source": [
    "df_homicidios_victimas = pd.read_csv(\"datasets/homicidios_victimas.csv\",sep=\";\")\n",
    "df_homicidios_hechos = pd.read_csv(\"datasets/homicidios_hechos.csv\",sep=\";\")"
   ]
  },
  {
   "cell_type": "code",
   "execution_count": 3,
   "metadata": {},
   "outputs": [
    {
     "data": {
      "text/html": [
       "<div>\n",
       "<style scoped>\n",
       "    .dataframe tbody tr th:only-of-type {\n",
       "        vertical-align: middle;\n",
       "    }\n",
       "\n",
       "    .dataframe tbody tr th {\n",
       "        vertical-align: top;\n",
       "    }\n",
       "\n",
       "    .dataframe thead th {\n",
       "        text-align: right;\n",
       "    }\n",
       "</style>\n",
       "<table border=\"1\" class=\"dataframe\">\n",
       "  <thead>\n",
       "    <tr style=\"text-align: right;\">\n",
       "      <th></th>\n",
       "      <th>N_VICTIMAS</th>\n",
       "      <th>AAAA</th>\n",
       "      <th>MM</th>\n",
       "      <th>DD</th>\n",
       "      <th>Altura</th>\n",
       "      <th>COMUNA</th>\n",
       "    </tr>\n",
       "  </thead>\n",
       "  <tbody>\n",
       "    <tr>\n",
       "      <th>count</th>\n",
       "      <td>696.000000</td>\n",
       "      <td>696.000000</td>\n",
       "      <td>696.000000</td>\n",
       "      <td>696.000000</td>\n",
       "      <td>129.000000</td>\n",
       "      <td>696.000000</td>\n",
       "    </tr>\n",
       "    <tr>\n",
       "      <th>mean</th>\n",
       "      <td>1.030172</td>\n",
       "      <td>2018.188218</td>\n",
       "      <td>6.692529</td>\n",
       "      <td>15.936782</td>\n",
       "      <td>3336.635659</td>\n",
       "      <td>7.425287</td>\n",
       "    </tr>\n",
       "    <tr>\n",
       "      <th>std</th>\n",
       "      <td>0.179393</td>\n",
       "      <td>1.683754</td>\n",
       "      <td>3.571309</td>\n",
       "      <td>8.639646</td>\n",
       "      <td>3060.641793</td>\n",
       "      <td>4.387050</td>\n",
       "    </tr>\n",
       "    <tr>\n",
       "      <th>min</th>\n",
       "      <td>1.000000</td>\n",
       "      <td>2016.000000</td>\n",
       "      <td>1.000000</td>\n",
       "      <td>1.000000</td>\n",
       "      <td>30.000000</td>\n",
       "      <td>0.000000</td>\n",
       "    </tr>\n",
       "    <tr>\n",
       "      <th>25%</th>\n",
       "      <td>1.000000</td>\n",
       "      <td>2017.000000</td>\n",
       "      <td>4.000000</td>\n",
       "      <td>9.000000</td>\n",
       "      <td>1359.000000</td>\n",
       "      <td>4.000000</td>\n",
       "    </tr>\n",
       "    <tr>\n",
       "      <th>50%</th>\n",
       "      <td>1.000000</td>\n",
       "      <td>2018.000000</td>\n",
       "      <td>7.000000</td>\n",
       "      <td>16.000000</td>\n",
       "      <td>2551.000000</td>\n",
       "      <td>8.000000</td>\n",
       "    </tr>\n",
       "    <tr>\n",
       "      <th>75%</th>\n",
       "      <td>1.000000</td>\n",
       "      <td>2020.000000</td>\n",
       "      <td>10.000000</td>\n",
       "      <td>23.000000</td>\n",
       "      <td>4500.000000</td>\n",
       "      <td>11.000000</td>\n",
       "    </tr>\n",
       "    <tr>\n",
       "      <th>max</th>\n",
       "      <td>3.000000</td>\n",
       "      <td>2021.000000</td>\n",
       "      <td>12.000000</td>\n",
       "      <td>31.000000</td>\n",
       "      <td>16080.000000</td>\n",
       "      <td>15.000000</td>\n",
       "    </tr>\n",
       "  </tbody>\n",
       "</table>\n",
       "</div>"
      ],
      "text/plain": [
       "       N_VICTIMAS         AAAA          MM          DD        Altura  \\\n",
       "count  696.000000   696.000000  696.000000  696.000000    129.000000   \n",
       "mean     1.030172  2018.188218    6.692529   15.936782   3336.635659   \n",
       "std      0.179393     1.683754    3.571309    8.639646   3060.641793   \n",
       "min      1.000000  2016.000000    1.000000    1.000000     30.000000   \n",
       "25%      1.000000  2017.000000    4.000000    9.000000   1359.000000   \n",
       "50%      1.000000  2018.000000    7.000000   16.000000   2551.000000   \n",
       "75%      1.000000  2020.000000   10.000000   23.000000   4500.000000   \n",
       "max      3.000000  2021.000000   12.000000   31.000000  16080.000000   \n",
       "\n",
       "           COMUNA  \n",
       "count  696.000000  \n",
       "mean     7.425287  \n",
       "std      4.387050  \n",
       "min      0.000000  \n",
       "25%      4.000000  \n",
       "50%      8.000000  \n",
       "75%     11.000000  \n",
       "max     15.000000  "
      ]
     },
     "execution_count": 3,
     "metadata": {},
     "output_type": "execute_result"
    }
   ],
   "source": [
    "df_homicidios_hechos.describe()"
   ]
  },
  {
   "cell_type": "code",
   "execution_count": 4,
   "metadata": {},
   "outputs": [
    {
     "name": "stdout",
     "output_type": "stream",
     "text": [
      "<class 'pandas.core.frame.DataFrame'>\n",
      "RangeIndex: 696 entries, 0 to 695\n",
      "Data columns (total 21 columns):\n",
      " #   Column                 Non-Null Count  Dtype  \n",
      "---  ------                 --------------  -----  \n",
      " 0   ID                     696 non-null    object \n",
      " 1   N_VICTIMAS             696 non-null    int64  \n",
      " 2   FECHA                  696 non-null    object \n",
      " 3   AAAA                   696 non-null    int64  \n",
      " 4   MM                     696 non-null    int64  \n",
      " 5   DD                     696 non-null    int64  \n",
      " 6   HORA                   696 non-null    object \n",
      " 7   HH                     696 non-null    object \n",
      " 8   LUGAR_DEL_HECHO        696 non-null    object \n",
      " 9   TIPO_DE_CALLE          696 non-null    object \n",
      " 10  Calle                  695 non-null    object \n",
      " 11  Altura                 129 non-null    float64\n",
      " 12  Cruce                  525 non-null    object \n",
      " 13  Dirección Normalizada  688 non-null    object \n",
      " 14  COMUNA                 696 non-null    int64  \n",
      " 15  XY (CABA)              696 non-null    object \n",
      " 16  pos x                  696 non-null    object \n",
      " 17  pos y                  696 non-null    object \n",
      " 18  PARTICIPANTES          696 non-null    object \n",
      " 19  VICTIMA                696 non-null    object \n",
      " 20  ACUSADO                696 non-null    object \n",
      "dtypes: float64(1), int64(5), object(15)\n",
      "memory usage: 114.3+ KB\n"
     ]
    }
   ],
   "source": [
    "df_homicidios_hechos.info()"
   ]
  },
  {
   "cell_type": "code",
   "execution_count": 5,
   "metadata": {},
   "outputs": [
    {
     "data": {
      "text/plain": [
       "VICTIMA\n",
       "MOTO           295\n",
       "PEATON         264\n",
       "AUTO            83\n",
       "BICICLETA       29\n",
       "SD               9\n",
       "CARGAS           7\n",
       "PASAJEROS        5\n",
       "MOVIL            2\n",
       "OBJETO FIJO      1\n",
       "PEATON_MOTO      1\n",
       "Name: count, dtype: int64"
      ]
     },
     "execution_count": 5,
     "metadata": {},
     "output_type": "execute_result"
    }
   ],
   "source": [
    "#¿Qué casos son los que sulene tener más victimas?\n",
    "df_homicidios_hechos['VICTIMA'].value_counts()"
   ]
  },
  {
   "cell_type": "code",
   "execution_count": 7,
   "metadata": {},
   "outputs": [
    {
     "data": {
      "text/plain": [
       "LUGAR_DEL_HECHO\n",
       "AV 27 DE FEBRERO Y AV ESCALADA              4\n",
       "CASTILLO, RAMON S., PRES. AV. Y CALLE 12    2\n",
       "PAZ, GRAL. AV. Y DEL LIBERTADOR AV.         2\n",
       "AV LA PLATA Y CNEL GREGORIO POMAR           2\n",
       "CANTILO, INT. Y UDAONDO, GUILLERMO AV.      2\n",
       "                                           ..\n",
       "AV. ALVEAR Y AV. DEL LIBERTADOR             1\n",
       "AV. PAVON Y TREINTA Y TRES ORIENTALES       1\n",
       "COLECTORA AV. GRAL. PAZ 5750                1\n",
       "VIEYTES Y CRUZ                              1\n",
       "PADRE CARLOS MUJICA 709                     1\n",
       "Name: count, Length: 683, dtype: int64"
      ]
     },
     "execution_count": 7,
     "metadata": {},
     "output_type": "execute_result"
    }
   ],
   "source": [
    "#¿En qué lugares suceden más accidentes?\n",
    "df_homicidios_hechos['LUGAR_DEL_HECHO'].value_counts()"
   ]
  },
  {
   "cell_type": "code",
   "execution_count": 8,
   "metadata": {},
   "outputs": [
    {
     "data": {
      "text/plain": [
       "HORA\n",
       "16:00:00    10\n",
       "21:00:00    10\n",
       "09:00:00    10\n",
       "12:30:00    10\n",
       "14:00:00    10\n",
       "            ..\n",
       "10:12:00     1\n",
       "00:10:00     1\n",
       "05:10:00     1\n",
       "16:10:00     1\n",
       "00:43:00     1\n",
       "Name: count, Length: 323, dtype: int64"
      ]
     },
     "execution_count": 8,
     "metadata": {},
     "output_type": "execute_result"
    }
   ],
   "source": [
    "#¿A qué horas pasan más accidentess?\n",
    "df_homicidios_hechos['HORA'].value_counts()"
   ]
  },
  {
   "cell_type": "markdown",
   "metadata": {},
   "source": [
    "Homicidios victimas"
   ]
  },
  {
   "cell_type": "code",
   "execution_count": 5,
   "metadata": {},
   "outputs": [
    {
     "data": {
      "text/html": [
       "<div>\n",
       "<style scoped>\n",
       "    .dataframe tbody tr th:only-of-type {\n",
       "        vertical-align: middle;\n",
       "    }\n",
       "\n",
       "    .dataframe tbody tr th {\n",
       "        vertical-align: top;\n",
       "    }\n",
       "\n",
       "    .dataframe thead th {\n",
       "        text-align: right;\n",
       "    }\n",
       "</style>\n",
       "<table border=\"1\" class=\"dataframe\">\n",
       "  <thead>\n",
       "    <tr style=\"text-align: right;\">\n",
       "      <th></th>\n",
       "      <th>AAAA</th>\n",
       "      <th>MM</th>\n",
       "      <th>DD</th>\n",
       "    </tr>\n",
       "  </thead>\n",
       "  <tbody>\n",
       "    <tr>\n",
       "      <th>count</th>\n",
       "      <td>717.000000</td>\n",
       "      <td>717.000000</td>\n",
       "      <td>717.000000</td>\n",
       "    </tr>\n",
       "    <tr>\n",
       "      <th>mean</th>\n",
       "      <td>2018.174338</td>\n",
       "      <td>6.688982</td>\n",
       "      <td>15.960948</td>\n",
       "    </tr>\n",
       "    <tr>\n",
       "      <th>std</th>\n",
       "      <td>1.672655</td>\n",
       "      <td>3.575140</td>\n",
       "      <td>8.683358</td>\n",
       "    </tr>\n",
       "    <tr>\n",
       "      <th>min</th>\n",
       "      <td>2016.000000</td>\n",
       "      <td>1.000000</td>\n",
       "      <td>1.000000</td>\n",
       "    </tr>\n",
       "    <tr>\n",
       "      <th>25%</th>\n",
       "      <td>2017.000000</td>\n",
       "      <td>4.000000</td>\n",
       "      <td>9.000000</td>\n",
       "    </tr>\n",
       "    <tr>\n",
       "      <th>50%</th>\n",
       "      <td>2018.000000</td>\n",
       "      <td>7.000000</td>\n",
       "      <td>16.000000</td>\n",
       "    </tr>\n",
       "    <tr>\n",
       "      <th>75%</th>\n",
       "      <td>2019.000000</td>\n",
       "      <td>10.000000</td>\n",
       "      <td>23.000000</td>\n",
       "    </tr>\n",
       "    <tr>\n",
       "      <th>max</th>\n",
       "      <td>2021.000000</td>\n",
       "      <td>12.000000</td>\n",
       "      <td>31.000000</td>\n",
       "    </tr>\n",
       "  </tbody>\n",
       "</table>\n",
       "</div>"
      ],
      "text/plain": [
       "              AAAA          MM          DD\n",
       "count   717.000000  717.000000  717.000000\n",
       "mean   2018.174338    6.688982   15.960948\n",
       "std       1.672655    3.575140    8.683358\n",
       "min    2016.000000    1.000000    1.000000\n",
       "25%    2017.000000    4.000000    9.000000\n",
       "50%    2018.000000    7.000000   16.000000\n",
       "75%    2019.000000   10.000000   23.000000\n",
       "max    2021.000000   12.000000   31.000000"
      ]
     },
     "execution_count": 5,
     "metadata": {},
     "output_type": "execute_result"
    }
   ],
   "source": [
    "df_homicidios_victimas.describe()"
   ]
  },
  {
   "cell_type": "code",
   "execution_count": 6,
   "metadata": {},
   "outputs": [
    {
     "name": "stdout",
     "output_type": "stream",
     "text": [
      "<class 'pandas.core.frame.DataFrame'>\n",
      "RangeIndex: 717 entries, 0 to 716\n",
      "Data columns (total 10 columns):\n",
      " #   Column               Non-Null Count  Dtype \n",
      "---  ------               --------------  ----- \n",
      " 0   ID_hecho             717 non-null    object\n",
      " 1   FECHA                717 non-null    object\n",
      " 2   AAAA                 717 non-null    int64 \n",
      " 3   MM                   717 non-null    int64 \n",
      " 4   DD                   717 non-null    int64 \n",
      " 5   ROL                  717 non-null    object\n",
      " 6   VICTIMA              717 non-null    object\n",
      " 7   SEXO                 717 non-null    object\n",
      " 8   EDAD                 717 non-null    object\n",
      " 9   FECHA_FALLECIMIENTO  717 non-null    object\n",
      "dtypes: int64(3), object(7)\n",
      "memory usage: 56.1+ KB\n"
     ]
    }
   ],
   "source": [
    "df_homicidios_victimas.info()"
   ]
  },
  {
   "cell_type": "code",
   "execution_count": null,
   "metadata": {},
   "outputs": [],
   "source": []
  },
  {
   "cell_type": "code",
   "execution_count": 24,
   "metadata": {},
   "outputs": [
    {
     "data": {
      "text/plain": [
       "29     2\n",
       "97     2\n",
       "161    2\n",
       "170    3\n",
       "171    2\n",
       "180    2\n",
       "230    2\n",
       "234    2\n",
       "244    2\n",
       "267    2\n",
       "289    2\n",
       "300    2\n",
       "312    2\n",
       "359    2\n",
       "372    2\n",
       "402    2\n",
       "427    2\n",
       "558    2\n",
       "583    2\n",
       "596    2\n",
       "Name: N_VICTIMAS, dtype: int64"
      ]
     },
     "execution_count": 24,
     "metadata": {},
     "output_type": "execute_result"
    }
   ],
   "source": [
    "z_score = np.abs(stats.zscore(df_homicidios_hechos['N_VICTIMAS']))\n",
    "threshold = 5\n",
    "outliers_victimas = df_homicidios_hechos[z_score > threshold]\n",
    "outliers_victimas['N_VICTIMAS']"
   ]
  },
  {
   "cell_type": "code",
   "execution_count": 14,
   "metadata": {},
   "outputs": [
    {
     "data": {
      "text/plain": [
       "Text(0.5, 0, 'Número de victimas')"
      ]
     },
     "execution_count": 14,
     "metadata": {},
     "output_type": "execute_result"
    },
    {
     "data": {
      "image/png": "[encoded data removed]",
      "text/plain": [
       "<Figure size 640x480 with 1 Axes>"
      ]
     },
     "metadata": {},
     "output_type": "display_data"
    }
   ],
   "source": [
    "g = sns.boxplot(data=df_homicidios_hechos,x='N_VICTIMAS')\n",
    "g.set_title(\"Box plot número victimas\")\n",
    "g.set_xlabel(\"Número de victimas\")"
   ]
  },
  {
   "cell_type": "code",
   "execution_count": 8,
   "metadata": {},
   "outputs": [
    {
     "data": {
      "text/plain": [
       "Text(0.5, 0, 'Horas')"
      ]
     },
     "execution_count": 8,
     "metadata": {},
     "output_type": "execute_result"
    },
    {
     "data": {
      "image/png": "[encoded data removed]",
      "text/plain": [
       "<Figure size 640x480 with 1 Axes>"
      ]
     },
     "metadata": {},
     "output_type": "display_data"
    }
   ],
   "source": [
    "h = sns.boxplot(data=df_homicidios_hechos,x='HORA')\n",
    "h.set_title(\"Box plot horas suceso\")\n",
    "h.set_xlabel(\"Horas\")"
   ]
  },
  {
   "cell_type": "markdown",
   "metadata": {},
   "source": [
    "Analisis arhivos Lesiones"
   ]
  },
  {
   "cell_type": "code",
   "execution_count": 3,
   "metadata": {},
   "outputs": [],
   "source": [
    "df_lesiones_victimas = pd.read_csv(\"datasets/lesiones_victimas.csv\",sep=\";\")\n",
    "df_lesiones_hechos = pd.read_csv(\"datasets/lesiones_hechos.csv\",sep=\";\")"
   ]
  },
  {
   "cell_type": "code",
   "execution_count": 12,
   "metadata": {},
   "outputs": [
    {
     "data": {
      "text/html": [
       "<div>\n",
       "<style scoped>\n",
       "    .dataframe tbody tr th:only-of-type {\n",
       "        vertical-align: middle;\n",
       "    }\n",
       "\n",
       "    .dataframe tbody tr th {\n",
       "        vertical-align: top;\n",
       "    }\n",
       "\n",
       "    .dataframe thead th {\n",
       "        text-align: right;\n",
       "    }\n",
       "</style>\n",
       "<table border=\"1\" class=\"dataframe\">\n",
       "  <thead>\n",
       "    <tr style=\"text-align: right;\">\n",
       "      <th></th>\n",
       "      <th>n_victimas</th>\n",
       "      <th>aaaa</th>\n",
       "      <th>mm</th>\n",
       "      <th>dd</th>\n",
       "      <th>altura</th>\n",
       "    </tr>\n",
       "  </thead>\n",
       "  <tbody>\n",
       "    <tr>\n",
       "      <th>count</th>\n",
       "      <td>23785.000000</td>\n",
       "      <td>23785.000000</td>\n",
       "      <td>23785.000000</td>\n",
       "      <td>23785.000000</td>\n",
       "      <td>12771.000000</td>\n",
       "    </tr>\n",
       "    <tr>\n",
       "      <th>mean</th>\n",
       "      <td>1.160563</td>\n",
       "      <td>2019.901324</td>\n",
       "      <td>6.597561</td>\n",
       "      <td>15.616355</td>\n",
       "      <td>729.076345</td>\n",
       "    </tr>\n",
       "    <tr>\n",
       "      <th>std</th>\n",
       "      <td>0.551571</td>\n",
       "      <td>0.859432</td>\n",
       "      <td>3.476955</td>\n",
       "      <td>8.700047</td>\n",
       "      <td>1734.515099</td>\n",
       "    </tr>\n",
       "    <tr>\n",
       "      <th>min</th>\n",
       "      <td>0.000000</td>\n",
       "      <td>2019.000000</td>\n",
       "      <td>1.000000</td>\n",
       "      <td>1.000000</td>\n",
       "      <td>0.000000</td>\n",
       "    </tr>\n",
       "    <tr>\n",
       "      <th>25%</th>\n",
       "      <td>1.000000</td>\n",
       "      <td>2019.000000</td>\n",
       "      <td>3.000000</td>\n",
       "      <td>8.000000</td>\n",
       "      <td>0.000000</td>\n",
       "    </tr>\n",
       "    <tr>\n",
       "      <th>50%</th>\n",
       "      <td>1.000000</td>\n",
       "      <td>2020.000000</td>\n",
       "      <td>7.000000</td>\n",
       "      <td>16.000000</td>\n",
       "      <td>0.000000</td>\n",
       "    </tr>\n",
       "    <tr>\n",
       "      <th>75%</th>\n",
       "      <td>1.000000</td>\n",
       "      <td>2021.000000</td>\n",
       "      <td>10.000000</td>\n",
       "      <td>23.000000</td>\n",
       "      <td>270.000000</td>\n",
       "    </tr>\n",
       "    <tr>\n",
       "      <th>max</th>\n",
       "      <td>16.000000</td>\n",
       "      <td>2021.000000</td>\n",
       "      <td>12.000000</td>\n",
       "      <td>31.000000</td>\n",
       "      <td>17700.000000</td>\n",
       "    </tr>\n",
       "  </tbody>\n",
       "</table>\n",
       "</div>"
      ],
      "text/plain": [
       "         n_victimas          aaaa            mm            dd        altura\n",
       "count  23785.000000  23785.000000  23785.000000  23785.000000  12771.000000\n",
       "mean       1.160563   2019.901324      6.597561     15.616355    729.076345\n",
       "std        0.551571      0.859432      3.476955      8.700047   1734.515099\n",
       "min        0.000000   2019.000000      1.000000      1.000000      0.000000\n",
       "25%        1.000000   2019.000000      3.000000      8.000000      0.000000\n",
       "50%        1.000000   2020.000000      7.000000     16.000000      0.000000\n",
       "75%        1.000000   2021.000000     10.000000     23.000000    270.000000\n",
       "max       16.000000   2021.000000     12.000000     31.000000  17700.000000"
      ]
     },
     "execution_count": 12,
     "metadata": {},
     "output_type": "execute_result"
    }
   ],
   "source": [
    "df_lesiones_hechos.describe()"
   ]
  },
  {
   "cell_type": "code",
   "execution_count": 13,
   "metadata": {},
   "outputs": [
    {
     "name": "stdout",
     "output_type": "stream",
     "text": [
      "<class 'pandas.core.frame.DataFrame'>\n",
      "RangeIndex: 23785 entries, 0 to 23784\n",
      "Data columns (total 27 columns):\n",
      " #   Column                 Non-Null Count  Dtype  \n",
      "---  ------                 --------------  -----  \n",
      " 0   id                     23785 non-null  object \n",
      " 1   n_victimas             23785 non-null  int64  \n",
      " 2   aaaa                   23785 non-null  int64  \n",
      " 3   mm                     23785 non-null  int64  \n",
      " 4   dd                     23785 non-null  int64  \n",
      " 5   fecha                  23785 non-null  object \n",
      " 6   hora                   23785 non-null  object \n",
      " 7   franja_hora            23780 non-null  object \n",
      " 8   direccion_normalizada  23732 non-null  object \n",
      " 9   comuna                 23616 non-null  object \n",
      " 10  tipo_calle             23785 non-null  object \n",
      " 11  otra_direccion         23785 non-null  object \n",
      " 12  calle                  12867 non-null  object \n",
      " 13  altura                 12771 non-null  float64\n",
      " 14  cruce                  9407 non-null   object \n",
      " 15  geocodificacion_CABA   23746 non-null  object \n",
      " 16  longitud               23523 non-null  object \n",
      " 17  latutid                23523 non-null  object \n",
      " 18  victima                23785 non-null  object \n",
      " 19  acusado                23785 non-null  object \n",
      " 20  participantes          23785 non-null  object \n",
      " 21  moto                   23692 non-null  object \n",
      " 22  auto                   23692 non-null  object \n",
      " 23  transporte_publico     23692 non-null  object \n",
      " 24  camion                 23692 non-null  object \n",
      " 25  ciclista               23692 non-null  object \n",
      " 26  gravedad               23785 non-null  object \n",
      "dtypes: float64(1), int64(4), object(22)\n",
      "memory usage: 4.9+ MB\n"
     ]
    }
   ],
   "source": [
    "df_lesiones_hechos.info()"
   ]
  },
  {
   "cell_type": "code",
   "execution_count": 14,
   "metadata": {},
   "outputs": [
    {
     "data": {
      "text/html": [
       "<div>\n",
       "<style scoped>\n",
       "    .dataframe tbody tr th:only-of-type {\n",
       "        vertical-align: middle;\n",
       "    }\n",
       "\n",
       "    .dataframe tbody tr th {\n",
       "        vertical-align: top;\n",
       "    }\n",
       "\n",
       "    .dataframe thead th {\n",
       "        text-align: right;\n",
       "    }\n",
       "</style>\n",
       "<table border=\"1\" class=\"dataframe\">\n",
       "  <thead>\n",
       "    <tr style=\"text-align: right;\">\n",
       "      <th></th>\n",
       "      <th>AAA</th>\n",
       "      <th>MM</th>\n",
       "      <th>DD</th>\n",
       "    </tr>\n",
       "  </thead>\n",
       "  <tbody>\n",
       "    <tr>\n",
       "      <th>count</th>\n",
       "      <td>27605.000000</td>\n",
       "      <td>27605.000000</td>\n",
       "      <td>27605.000000</td>\n",
       "    </tr>\n",
       "    <tr>\n",
       "      <th>mean</th>\n",
       "      <td>2019.897265</td>\n",
       "      <td>6.618113</td>\n",
       "      <td>15.620721</td>\n",
       "    </tr>\n",
       "    <tr>\n",
       "      <th>std</th>\n",
       "      <td>0.860899</td>\n",
       "      <td>3.479295</td>\n",
       "      <td>8.684067</td>\n",
       "    </tr>\n",
       "    <tr>\n",
       "      <th>min</th>\n",
       "      <td>2019.000000</td>\n",
       "      <td>1.000000</td>\n",
       "      <td>1.000000</td>\n",
       "    </tr>\n",
       "    <tr>\n",
       "      <th>25%</th>\n",
       "      <td>2019.000000</td>\n",
       "      <td>3.000000</td>\n",
       "      <td>8.000000</td>\n",
       "    </tr>\n",
       "    <tr>\n",
       "      <th>50%</th>\n",
       "      <td>2020.000000</td>\n",
       "      <td>7.000000</td>\n",
       "      <td>16.000000</td>\n",
       "    </tr>\n",
       "    <tr>\n",
       "      <th>75%</th>\n",
       "      <td>2021.000000</td>\n",
       "      <td>10.000000</td>\n",
       "      <td>23.000000</td>\n",
       "    </tr>\n",
       "    <tr>\n",
       "      <th>max</th>\n",
       "      <td>2021.000000</td>\n",
       "      <td>12.000000</td>\n",
       "      <td>31.000000</td>\n",
       "    </tr>\n",
       "  </tbody>\n",
       "</table>\n",
       "</div>"
      ],
      "text/plain": [
       "                AAA            MM            DD\n",
       "count  27605.000000  27605.000000  27605.000000\n",
       "mean    2019.897265      6.618113     15.620721\n",
       "std        0.860899      3.479295      8.684067\n",
       "min     2019.000000      1.000000      1.000000\n",
       "25%     2019.000000      3.000000      8.000000\n",
       "50%     2020.000000      7.000000     16.000000\n",
       "75%     2021.000000     10.000000     23.000000\n",
       "max     2021.000000     12.000000     31.000000"
      ]
     },
     "execution_count": 14,
     "metadata": {},
     "output_type": "execute_result"
    }
   ],
   "source": [
    "df_lesiones_victimas.describe()"
   ]
  },
  {
   "cell_type": "code",
   "execution_count": 15,
   "metadata": {},
   "outputs": [
    {
     "name": "stdout",
     "output_type": "stream",
     "text": [
      "<class 'pandas.core.frame.DataFrame'>\n",
      "RangeIndex: 27605 entries, 0 to 27604\n",
      "Data columns (total 9 columns):\n",
      " #   Column            Non-Null Count  Dtype \n",
      "---  ------            --------------  ----- \n",
      " 0   ID hecho          27605 non-null  object\n",
      " 1   AAA               27605 non-null  int64 \n",
      " 2   MM                27605 non-null  int64 \n",
      " 3   DD                27605 non-null  int64 \n",
      " 4   FECHA             27605 non-null  object\n",
      " 5   VEHICULO_VICTIMA  27605 non-null  object\n",
      " 6   SEXO              27605 non-null  object\n",
      " 7   EDAD_VICTIMA      27605 non-null  object\n",
      " 8   GRAVEDAD          27605 non-null  object\n",
      "dtypes: int64(3), object(6)\n",
      "memory usage: 1.9+ MB\n"
     ]
    }
   ],
   "source": [
    "df_lesiones_victimas.info()"
   ]
  },
  {
   "cell_type": "code",
   "execution_count": 17,
   "metadata": {},
   "outputs": [
    {
     "data": {
      "text/plain": [
       "Text(0.5, 0, 'Número de victimas')"
      ]
     },
     "execution_count": 17,
     "metadata": {},
     "output_type": "execute_result"
    },
    {
     "data": {
      "image/png": "[encoded data removed]",
      "text/plain": [
       "<Figure size 640x480 with 1 Axes>"
      ]
     },
     "metadata": {},
     "output_type": "display_data"
    }
   ],
   "source": [
    "g = sns.boxplot(data=df_lesiones_hechos,x='n_victimas')\n",
    "g.set_title(\"Box plot número victimas\")\n",
    "g.set_xlabel(\"Número de victimas\")"
   ]
  },
  {
   "cell_type": "code",
   "execution_count": 18,
   "metadata": {},
   "outputs": [
    {
     "data": {
      "text/plain": [
       "Text(0.5, 0, 'Horas')"
      ]
     },
     "execution_count": 18,
     "metadata": {},
     "output_type": "execute_result"
    },
    {
     "data": {
      "image/png": "[encoded data removed]",
      "text/plain": [
       "<Figure size 640x480 with 1 Axes>"
      ]
     },
     "metadata": {},
     "output_type": "display_data"
    }
   ],
   "source": [
    "h = sns.boxplot(data=df_lesiones_hechos,x='hora')\n",
    "h.set_title(\"Box plot horas suceso\")\n",
    "h.set_xlabel(\"Horas\")"
   ]
  },
  {
   "cell_type": "code",
   "execution_count": 22,
   "metadata": {},
   "outputs": [
    {
     "data": {
      "text/plain": [
       "4        4\n",
       "20       5\n",
       "149      4\n",
       "184      4\n",
       "258      5\n",
       "        ..\n",
       "23523    4\n",
       "23559    4\n",
       "23602    5\n",
       "23702    6\n",
       "23773    5\n",
       "Name: n_victimas, Length: 227, dtype: int64"
      ]
     },
     "execution_count": 22,
     "metadata": {},
     "output_type": "execute_result"
    }
   ],
   "source": [
    "z_score = np.abs(stats.zscore(df_lesiones_hechos['n_victimas']))\n",
    "threshold = 5\n",
    "outliers_victimas = df_lesiones_hechos[z_score > threshold]\n",
    "outliers_victimas['n_victimas']"
   ]
  },
  {
   "cell_type": "code",
   "execution_count": 5,
   "metadata": {},
   "outputs": [
    {
     "data": {
      "text/plain": [
       "victima\n",
       "SD                    10733\n",
       "MOTO                   5461\n",
       "CICLISTA               2209\n",
       "AUTO                   2033\n",
       "PEATON                 2026\n",
       "TRANSPORTE PUBLICO      678\n",
       "CAMIONETA               189\n",
       "TAXI                    182\n",
       "MOVIL                   100\n",
       "CAMION                   79\n",
       "MIXTO                    42\n",
       "MONOPATIN                28\n",
       "OTRO                     13\n",
       "UTILITARIO               12\n",
       "Name: count, dtype: int64"
      ]
     },
     "execution_count": 5,
     "metadata": {},
     "output_type": "execute_result"
    }
   ],
   "source": [
    "#¿Qué casos son los que sulene tener más victimas?\n",
    "df_lesiones_hechos['victima'].value_counts()"
   ]
  },
  {
   "cell_type": "code",
   "execution_count": 7,
   "metadata": {},
   "outputs": [
    {
     "data": {
      "text/plain": [
       "hora\n",
       "0:00             359\n",
       "16:00            286\n",
       "18:00            277\n",
       "12:00            270\n",
       "17:00            265\n",
       "                ... \n",
       "05:09:00 p.m.      1\n",
       "22:12              1\n",
       "09:36:00 p.m.      1\n",
       "04:40:00 a.m.      1\n",
       "6:38               1\n",
       "Name: count, Length: 2000, dtype: int64"
      ]
     },
     "execution_count": 7,
     "metadata": {},
     "output_type": "execute_result"
    }
   ],
   "source": [
    "#¿A qué horas pasan más accidentess?\n",
    "df_lesiones_hechos['hora'].value_counts()"
   ]
  },
  {
   "cell_type": "code",
   "execution_count": 9,
   "metadata": {},
   "outputs": [
    {
     "data": {
      "text/plain": [
       "altura\n",
       "0.0       9318\n",
       "1800.0      23\n",
       "2343.0      19\n",
       "1200.0      16\n",
       "700.0       16\n",
       "          ... \n",
       "2617.0       1\n",
       "142.0        1\n",
       "280.0        1\n",
       "127.0        1\n",
       "276.0        1\n",
       "Name: count, Length: 2176, dtype: int64"
      ]
     },
     "execution_count": 9,
     "metadata": {},
     "output_type": "execute_result"
    }
   ],
   "source": [
    "#¿En qué lugares suceden más accidentes?\n",
    "df_lesiones_hechos['altura'].value_counts()"
   ]
  }
 ],
 "metadata": {
  "kernelspec": {
   "display_name": "Python 3",
   "language": "python",
   "name": "python3"
  },
  "language_info": {
   "codemirror_mode": {
    "name": "ipython",
    "version": 3
   },
   "file_extension": ".py",
   "mimetype": "text/x-python",
   "name": "python",
   "nbconvert_exporter": "python",
   "pygments_lexer": "ipython3",
   "version": "3.10.12"
  }
 },
 "nbformat": 4,
 "nbformat_minor": 2
}
